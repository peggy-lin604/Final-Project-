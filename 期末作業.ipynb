{
  "nbformat": 4,
  "nbformat_minor": 0,
  "metadata": {
    "colab": {
      "name": "期末作業.ipynb",
      "provenance": [],
      "collapsed_sections": []
    },
    "kernelspec": {
      "name": "python3",
      "display_name": "Python 3"
    }
  },
  "cells": [
    {
      "cell_type": "markdown",
      "metadata": {
        "id": "q0U8J_LPuCv4",
        "colab_type": "text"
      },
      "source": [
        "(社團博覽會)\n",
        "哈囉(五次)\n",
        "哈囉!我叫做喵喵，喵~~\n",
        "你叫甚麼名字呢?喵~\n",
        "'回答名字'\n",
        "你好XX，很高興認識你，喵~\n",
        "你從哪裡來?喵~\n",
        "'回答從哪來'\n",
        "喔~喵喵聽說xx是一個很美的地方，喵~\n",
        "'回答是或否'\n",
        "若是是接 喵喵沒記錯吧!喵~\n",
        "若是否接 喵喵記錯了嗎?喵~\n",
        "喵喵是從喵喵星來的喵星人，喵~\n",
        "很酷吧~喵~\n",
        "你有參加過幾個社團呢，喵~\n",
        "'回答有參加過幾個社團'\n",
        "若是0個 要多多增加自己的社團經驗喔!喵~\n",
        "若是1個 跟喵喵一樣呢!喵~那是哪一個社團呢?喵~  哇!喵喵下次去找你玩~喵\n",
        "若是2以上 哇~好棒喔!喵~ 喵喵只有參加過合唱團，喵~\n",
        "請問你今年幾歲?喵~\n",
        "'回答歲數'\n",
        "(比喵喵大)原來你比喵喵大喔~喵~失敬失敬!喵~\n",
        "(跟喵喵一樣)喵喵跟你一樣是18歲喔!喵~\n",
        "(比喵喵小)比喵喵小ㄟ，喵喵會好好照顧後輩的，喵~\n",
        "喵喵的興趣是追老鼠和唱歌，喵~\n",
        "你的興趣是甚麼?喵~\n",
        "'回答興趣'\n",
        "喵喵也喜歡XX喔!\n",
        "希望今天的社團博覽會你能夠玩得開心，喵~\n",
        "喵喵要去追老鼠了，下次再見喔~掰掰喵~"
      ]
    },
    {
      "cell_type": "code",
      "metadata": {
        "id": "-0DxggsghQen",
        "colab_type": "code",
        "colab": {
          "base_uri": "https://localhost:8080/",
          "height": 156
        },
        "outputId": "e952a71f-81ca-4dad-d751-99b04ee43755"
      },
      "source": [
        "n=1\n",
        "while n<=5:\n",
        "  print('哈囉!')\n",
        "  n=n+1\n",
        "print('哈囉我叫做喵喵，喵~')\n",
        "name=input('你叫什麼名字呢?喵~')\n",
        "print('你好', name,'很高興認識你，喵~')"
      ],
      "execution_count": null,
      "outputs": [
        {
          "output_type": "stream",
          "text": [
            "哈囉!\n",
            "哈囉!\n",
            "哈囉!\n",
            "哈囉!\n",
            "哈囉!\n",
            "哈囉我叫做喵喵，喵~\n",
            "你叫什麼名字呢?喵~玲\n",
            "你好 玲 很高興認識你，喵~\n"
          ],
          "name": "stdout"
        }
      ]
    },
    {
      "cell_type": "code",
      "metadata": {
        "id": "BBf_H6Pd4T7H",
        "colab_type": "code",
        "colab": {
          "base_uri": "https://localhost:8080/",
          "height": 121
        },
        "outputId": "e6da36cb-3cc3-4c5a-ef9f-8836d9990220"
      },
      "source": [
        "place=input('你是從哪裡來?喵~')\n",
        "print('喵喵聽說',place,'是一個很美的地方，喵~')\n",
        "ans=input('yes或no ')\n",
        "if ans=='yes':\n",
        "  print('喵喵沒記錯吧!喵~')\n",
        "else:\n",
        "  print('喵喵記錯了嗎?喵~')\n",
        "print('喵喵是從喵喵星來的喵星人喔!喵')\n",
        "print('很酷吧!喵~')"
      ],
      "execution_count": null,
      "outputs": [
        {
          "output_type": "stream",
          "text": [
            "你是從哪裡來?喵~台北\n",
            "喵喵聽說 台北 是一個很美的地方，喵~\n",
            "yes或nono\n",
            "喵喵記錯了嗎?喵~\n",
            "喵喵是從喵喵星來的喵星人喔!喵\n",
            "很酷吧!喵~\n"
          ],
          "name": "stdout"
        }
      ]
    },
    {
      "cell_type": "code",
      "metadata": {
        "id": "4vAd699IITti",
        "colab_type": "code",
        "colab": {
          "base_uri": "https://localhost:8080/",
          "height": 85
        },
        "outputId": "27eb349e-47c8-4d5c-9b5f-f245ddbf68c6"
      },
      "source": [
        "club=int(input('你有參加過幾個社團呢?喵~'))\n",
        "if club<1:\n",
        "  print('要多多增加自己的社團經驗喔!喵~')\n",
        "elif club==1:\n",
        "  print('跟喵喵一樣呢!喵~')\n",
        "  input('那是哪一個社團呢?喵~')\n",
        "  print('哇!喵喵下次去找你玩，喵~')\n",
        "else:\n",
        "  print('哇!好棒喔!喵喵只有參加過合唱團，喵~')"
      ],
      "execution_count": null,
      "outputs": [
        {
          "output_type": "stream",
          "text": [
            "你有參加過幾個社團呢?喵~1\n",
            "跟喵喵一樣呢!喵~\n",
            "那是哪一個社團呢?喵~合唱團\n",
            "哇!喵喵下次去找你玩，喵~\n"
          ],
          "name": "stdout"
        }
      ]
    },
    {
      "cell_type": "code",
      "metadata": {
        "id": "-GJLEAXP7-u-",
        "colab_type": "code",
        "colab": {
          "base_uri": "https://localhost:8080/",
          "height": 52
        },
        "outputId": "462a6aa5-eb3e-40b2-b8d5-e3ca80181510"
      },
      "source": [
        "years=int(input('你今年幾歲?喵~'))\n",
        "if years>18:\n",
        "  print('原來你比喵喵大喔!喵~ 失敬失敬!')\n",
        "elif years==18:\n",
        "  print('喵喵跟你一樣是18喔!喵~')\n",
        "else:\n",
        "  print('比喵喵小ㄟ，喵喵會好好照顧後輩的，喵~ ')"
      ],
      "execution_count": null,
      "outputs": [
        {
          "output_type": "stream",
          "text": [
            "你今年幾歲?喵~19\n",
            "原來你比喵喵大喔!喵~ 失敬失敬!\n"
          ],
          "name": "stdout"
        }
      ]
    },
    {
      "cell_type": "code",
      "metadata": {
        "id": "6HGcWkXW-hv-",
        "colab_type": "code",
        "colab": {
          "base_uri": "https://localhost:8080/",
          "height": 121
        },
        "outputId": "1585bc47-218a-4d49-ceec-51443c3aaec5"
      },
      "source": [
        "print('喵喵的興趣是追老鼠和唱歌，喵~')\n",
        "intrest=input('你的興趣是什麼?喵~')\n",
        "print('喵喵也喜歡',intrest,'喔!喵~')\n",
        "print('希望今天社團博覽會你能夠玩得開心，喵~')\n",
        "print('喵喵要去追老鼠了!喵~')\n",
        "print('下次見喔!掰掰喵~')"
      ],
      "execution_count": null,
      "outputs": [
        {
          "output_type": "stream",
          "text": [
            "喵喵的興趣是追老鼠和唱歌，喵~\n",
            "你的興趣是什麼?喵~游泳\n",
            "喵喵也喜歡 游泳 喔!喵~\n",
            "希望今天社團博覽會你能夠玩得開心，喵~\n",
            "喵喵要去追老鼠了!喵~\n",
            "下次見喔!掰掰喵~\n"
          ],
          "name": "stdout"
        }
      ]
    }
  ]
}